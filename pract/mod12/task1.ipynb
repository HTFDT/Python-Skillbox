{
 "cells": [
  {
   "cell_type": "code",
   "execution_count": 1,
   "metadata": {
    "id": "RhEmuVuM4ikx",
    "ExecuteTime": {
     "end_time": "2023-12-09T18:06:59.854531800Z",
     "start_time": "2023-12-09T18:06:59.848548100Z"
    }
   },
   "outputs": [],
   "source": [
    "import sqlite3\n",
    "netflix_conn = sqlite3.connect('netflix.sqlite')\n",
    "task_conn = sqlite3.connect(\"task1.sqlite\")"
   ]
  },
  {
   "cell_type": "code",
   "source": [
    "def dict_factory(cursor, row):\n",
    "    d = {}\n",
    "    for idx, col in enumerate(cursor.description):\n",
    "        d[col[0]] = row[idx]\n",
    "    return d\n",
    "netflix_conn.row_factory = dict_factory"
   ],
   "metadata": {
    "id": "eqbej71jQNCB",
    "ExecuteTime": {
     "end_time": "2023-12-09T18:06:59.872483900Z",
     "start_time": "2023-12-09T18:06:59.856526Z"
    }
   },
   "execution_count": 2,
   "outputs": []
  },
  {
   "cell_type": "code",
   "source": [
    "task_cur = task_conn.cursor()\n",
    "with task_conn:\n",
    "  task_cur.execute(\"\"\"\n",
    "  CREATE TABLE films (\n",
    "    film_id INTEGER PRIMARY KEY AUTOINCREMENT,\n",
    "    type TEXT NOT NULL,\n",
    "    title TEXT NOT NULL,\n",
    "    director TEXT NOT NULL,\n",
    "    country TEXT NOT NULL,\n",
    "    date_added TEXT NOT NULL,\n",
    "    release_year INTEGER NOT NULL,\n",
    "    rating TEXT NOT NULL,\n",
    "    duration TEXT NOT NULL,\n",
    "    listed_in TEXT NOT NULL,\n",
    "    description TEXT NOT NULL\n",
    "  );\n",
    "  \"\"\")\n",
    "  task_cur.execute(\"\"\"\n",
    "  CREATE TABLE actors (\n",
    "    actor_id INTEGER PRIMARY KEY AUTOINCREMENT,\n",
    "    actor_name TEXT UNIQUE NOT NULL\n",
    "  );\n",
    "  \"\"\")\n",
    "  task_cur.execute(\"\"\"\n",
    "    CREATE TABLE actors_films (\n",
    "    film_id INTEGER,\n",
    "    actor_id INTEGER,\n",
    "    PRIMARY KEY (actor_id, film_id),\n",
    "    FOREIGN KEY (film_id) REFERENCES films(film_id),\n",
    "    FOREIGN KEY (actor_id) REFERENCES actors(actor_id)\n",
    "  );\n",
    "  \"\"\")"
   ],
   "metadata": {
    "id": "z8KPlULGP69B",
    "ExecuteTime": {
     "end_time": "2023-12-09T18:06:59.903400800Z",
     "start_time": "2023-12-09T18:06:59.866500200Z"
    }
   },
   "execution_count": 3,
   "outputs": []
  },
  {
   "cell_type": "code",
   "source": [
    "netflix_cur = netflix_conn.cursor()\n",
    "with netflix_conn:\n",
    "  with task_conn:\n",
    "    for row in netflix_cur.execute(\"SELECT * FROM netflix_titles\"):\n",
    "      task_cur.execute(\"\"\"\n",
    "      INSERT INTO films (type, title, director, country, date_added, release_year, rating, duration, listed_in, description) VALUES\n",
    "        (:type, :title, :director, :country, :date_added, :release_year, :rating, :duration, :listed_in, :description);\n",
    "       \"\"\", row)\n",
    "      film_id = task_cur.execute(\"SELECT last_insert_rowid() FROM films;\").fetchone()[0]\n",
    "      for actor in row[\"cast\"].split(\", \"):\n",
    "        task_cur.execute(\"INSERT OR IGNORE INTO actors (actor_name) VALUES (?)\", (actor,))\n",
    "        task_cur.execute(\"\"\"\n",
    "        INSERT OR IGNORE INTO actors_films (film_id, actor_id) VALUES\n",
    "        (?, (SELECT actor_id FROM actors WHERE actor_name = ?))\"\"\", (film_id, actor))"
   ],
   "metadata": {
    "id": "J1qde1hdVTmH",
    "ExecuteTime": {
     "end_time": "2023-12-09T18:07:00.192627Z",
     "start_time": "2023-12-09T18:06:59.883454300Z"
    }
   },
   "execution_count": 4,
   "outputs": []
  },
  {
   "cell_type": "code",
   "source": [
    "with task_conn:\n",
    "  most_freq_pair = task_cur.execute(\"\"\"\n",
    "  SELECT (SELECT actor_name from actors where actor_id = id1) as name1,\n",
    "  (SELECT actor_name from actors WHERE actor_id = id2) as name2\n",
    "    FROM (select id1, id2, COUNT(*) FROM\n",
    "      (SELECT A.actor_id as id1, B.actor_id as id2 FROM actors_films A, actors_films B\n",
    "        WHERE A.film_id = B.film_id AND id1 < id2) T\n",
    "        GROUP BY id1, id2\n",
    "        ORDER BY COUNT(*) DESC\n",
    "        LIMIT 1);\n",
    "  \"\"\").fetchone()\n",
    "most_freq_pair"
   ],
   "metadata": {
    "colab": {
     "base_uri": "https://localhost:8080/"
    },
    "id": "kYXPLqxve0kJ",
    "outputId": "15877a04-ef9f-4328-e8d3-dc467b530488",
    "ExecuteTime": {
     "end_time": "2023-12-09T18:07:00.338238300Z",
     "start_time": "2023-12-09T18:07:00.195620500Z"
    }
   },
   "execution_count": 5,
   "outputs": [
    {
     "data": {
      "text/plain": "('John Paul Tremblay', 'Robb Wells')"
     },
     "execution_count": 5,
     "metadata": {},
     "output_type": "execute_result"
    }
   ]
  }
 ],
 "metadata": {
  "kernelspec": {
   "display_name": "Python 3",
   "language": "python",
   "name": "python3"
  },
  "language_info": {
   "codemirror_mode": {
    "name": "ipython",
    "version": 3
   },
   "file_extension": ".py",
   "mimetype": "text/x-python",
   "name": "python",
   "nbconvert_exporter": "python",
   "pygments_lexer": "ipython3",
   "version": "3.6.9"
  },
  "colab": {
   "provenance": []
  }
 },
 "nbformat": 4,
 "nbformat_minor": 0
}
